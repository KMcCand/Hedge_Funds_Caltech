{
 "cells": [
  {
   "cell_type": "markdown",
   "id": "9a799abf",
   "metadata": {},
   "source": [
    "# BEM114 Homework 2 - Statistical Arbitrage\n",
    "**Names:** Andrew Zabelo, Daniel Wen, Kyle McCandless  \n",
    "**UIDs:** , , 2157818"
   ]
  },
  {
   "cell_type": "markdown",
   "id": "1e851a0c",
   "metadata": {},
   "source": [
    "## Setup"
   ]
  },
  {
   "cell_type": "code",
   "execution_count": 1,
   "id": "c6ff6a9f",
   "metadata": {},
   "outputs": [],
   "source": [
    "# Imports\n",
    "import pandas as pd\n",
    "import numpy as np\n",
    "\n",
    "import matplotlib.pyplot as plt"
   ]
  },
  {
   "cell_type": "markdown",
   "id": "991bb596",
   "metadata": {},
   "source": [
    "## Problem 1\n",
    "### Part A"
   ]
  },
  {
   "cell_type": "code",
   "execution_count": 38,
   "id": "ed8db01b",
   "metadata": {},
   "outputs": [
    {
     "data": {
      "text/html": [
       "<div>\n",
       "<style scoped>\n",
       "    .dataframe tbody tr th:only-of-type {\n",
       "        vertical-align: middle;\n",
       "    }\n",
       "\n",
       "    .dataframe tbody tr th {\n",
       "        vertical-align: top;\n",
       "    }\n",
       "\n",
       "    .dataframe thead th {\n",
       "        text-align: right;\n",
       "    }\n",
       "</style>\n",
       "<table border=\"1\" class=\"dataframe\">\n",
       "  <thead>\n",
       "    <tr style=\"text-align: right;\">\n",
       "      <th></th>\n",
       "      <th>PERMNO</th>\n",
       "      <th>date</th>\n",
       "      <th>SHRCD</th>\n",
       "      <th>EXCHCD</th>\n",
       "      <th>PRC</th>\n",
       "      <th>RET</th>\n",
       "      <th>SHROUT</th>\n",
       "    </tr>\n",
       "  </thead>\n",
       "  <tbody>\n",
       "    <tr>\n",
       "      <th>1</th>\n",
       "      <td>10000</td>\n",
       "      <td>1986-01-31</td>\n",
       "      <td>10</td>\n",
       "      <td>3</td>\n",
       "      <td>NA</td>\n",
       "      <td>C</td>\n",
       "      <td>3680.0</td>\n",
       "    </tr>\n",
       "    <tr>\n",
       "      <th>2</th>\n",
       "      <td>10000</td>\n",
       "      <td>1986-02-28</td>\n",
       "      <td>10</td>\n",
       "      <td>3</td>\n",
       "      <td>NA</td>\n",
       "      <td>-0.257143</td>\n",
       "      <td>3680.0</td>\n",
       "    </tr>\n",
       "    <tr>\n",
       "      <th>3</th>\n",
       "      <td>10000</td>\n",
       "      <td>1986-03-31</td>\n",
       "      <td>10</td>\n",
       "      <td>3</td>\n",
       "      <td>NA</td>\n",
       "      <td>0.365385</td>\n",
       "      <td>3680.0</td>\n",
       "    </tr>\n",
       "    <tr>\n",
       "      <th>4</th>\n",
       "      <td>10000</td>\n",
       "      <td>1986-04-30</td>\n",
       "      <td>10</td>\n",
       "      <td>3</td>\n",
       "      <td>NA</td>\n",
       "      <td>-0.098592</td>\n",
       "      <td>3793.0</td>\n",
       "    </tr>\n",
       "    <tr>\n",
       "      <th>5</th>\n",
       "      <td>10000</td>\n",
       "      <td>1986-05-30</td>\n",
       "      <td>10</td>\n",
       "      <td>3</td>\n",
       "      <td>NA</td>\n",
       "      <td>-0.222656</td>\n",
       "      <td>3793.0</td>\n",
       "    </tr>\n",
       "    <tr>\n",
       "      <th>...</th>\n",
       "      <td>...</td>\n",
       "      <td>...</td>\n",
       "      <td>...</td>\n",
       "      <td>...</td>\n",
       "      <td>...</td>\n",
       "      <td>...</td>\n",
       "      <td>...</td>\n",
       "    </tr>\n",
       "    <tr>\n",
       "      <th>4705164</th>\n",
       "      <td>93436</td>\n",
       "      <td>2020-08-31</td>\n",
       "      <td>11</td>\n",
       "      <td>3</td>\n",
       "      <td>498.32001</td>\n",
       "      <td>0.741452</td>\n",
       "      <td>931809.0</td>\n",
       "    </tr>\n",
       "    <tr>\n",
       "      <th>4705165</th>\n",
       "      <td>93436</td>\n",
       "      <td>2020-09-30</td>\n",
       "      <td>11</td>\n",
       "      <td>3</td>\n",
       "      <td>429.01001</td>\n",
       "      <td>-0.139087</td>\n",
       "      <td>948000.0</td>\n",
       "    </tr>\n",
       "    <tr>\n",
       "      <th>4705166</th>\n",
       "      <td>93436</td>\n",
       "      <td>2020-10-30</td>\n",
       "      <td>11</td>\n",
       "      <td>3</td>\n",
       "      <td>388.04001</td>\n",
       "      <td>-0.095499</td>\n",
       "      <td>947901.0</td>\n",
       "    </tr>\n",
       "    <tr>\n",
       "      <th>4705167</th>\n",
       "      <td>93436</td>\n",
       "      <td>2020-11-30</td>\n",
       "      <td>11</td>\n",
       "      <td>3</td>\n",
       "      <td>567.59998</td>\n",
       "      <td>0.462736</td>\n",
       "      <td>947901.0</td>\n",
       "    </tr>\n",
       "    <tr>\n",
       "      <th>4705168</th>\n",
       "      <td>93436</td>\n",
       "      <td>2020-12-31</td>\n",
       "      <td>11</td>\n",
       "      <td>3</td>\n",
       "      <td>705.66998</td>\n",
       "      <td>0.243252</td>\n",
       "      <td>959854.0</td>\n",
       "    </tr>\n",
       "  </tbody>\n",
       "</table>\n",
       "<p>3589856 rows × 7 columns</p>\n",
       "</div>"
      ],
      "text/plain": [
       "         PERMNO        date  SHRCD  EXCHCD        PRC        RET    SHROUT\n",
       "1         10000  1986-01-31     10       3         NA          C    3680.0\n",
       "2         10000  1986-02-28     10       3         NA  -0.257143    3680.0\n",
       "3         10000  1986-03-31     10       3         NA   0.365385    3680.0\n",
       "4         10000  1986-04-30     10       3         NA  -0.098592    3793.0\n",
       "5         10000  1986-05-30     10       3         NA  -0.222656    3793.0\n",
       "...         ...         ...    ...     ...        ...        ...       ...\n",
       "4705164   93436  2020-08-31     11       3  498.32001   0.741452  931809.0\n",
       "4705165   93436  2020-09-30     11       3  429.01001  -0.139087  948000.0\n",
       "4705166   93436  2020-10-30     11       3  388.04001  -0.095499  947901.0\n",
       "4705167   93436  2020-11-30     11       3  567.59998   0.462736  947901.0\n",
       "4705168   93436  2020-12-31     11       3  705.66998   0.243252  959854.0\n",
       "\n",
       "[3589856 rows x 7 columns]"
      ]
     },
     "execution_count": 38,
     "metadata": {},
     "output_type": "execute_result"
    }
   ],
   "source": [
    "# Read data and clean\n",
    "df = pd.read_csv('crsp_1926_2020.csv')\n",
    "\n",
    "# Drop NaNs, set types\n",
    "df = df.dropna()\n",
    "df = df.astype({'date': 'string', 'SHRCD': 'int', 'EXCHCD': 'int'})\n",
    "\n",
    "# Follow part A instructions\n",
    "df = df[df['SHRCD'].isin([10, 11])]\n",
    "df = df[df['EXCHCD'].isin([1, 2, 3])]\n",
    "df.loc[df['PRC'] < 0, 'PRC'] = 'NA'\n",
    "df"
   ]
  },
  {
   "cell_type": "markdown",
   "id": "d4668076",
   "metadata": {},
   "source": [
    "### Part B"
   ]
  },
  {
   "cell_type": "code",
   "execution_count": 39,
   "id": "69b27942",
   "metadata": {},
   "outputs": [
    {
     "data": {
      "image/png": "[encoded data removed]",
      "text/plain": [
       "<Figure size 640x480 with 1 Axes>"
      ]
     },
     "metadata": {},
     "output_type": "display_data"
    }
   ],
   "source": [
    "# Group by year and month\n",
    "df['YYYY-MM'] = df['date'].str[:-3]\n",
    "by_month = df.groupby(df['YYYY-MM'])['PERMNO'].nunique().reset_index()\n",
    "by_month['YYYY-MM'] = pd.to_datetime(by_month['YYYY-MM'])\n",
    "\n",
    "# Create plot of number of firms listed each month\n",
    "plt.plot(by_month['YYYY-MM'], by_month['PERMNO'])\n",
    "plt.title('Number of listed firms each month on NYSE, AMEX and NASDAQ')\n",
    "plt.xlabel('Date')\n",
    "plt.ylabel('Number of listed firms')\n",
    "plt.xticks(rotation=45)\n",
    "plt.show()"
   ]
  },
  {
   "cell_type": "markdown",
   "id": "e77562c8",
   "metadata": {},
   "source": [
    "## Problem 2"
   ]
  },
  {
   "cell_type": "code",
   "execution_count": null,
   "id": "4c4b3c02",
   "metadata": {},
   "outputs": [],
   "source": []
  },
  {
   "cell_type": "code",
   "execution_count": null,
   "id": "9fbb2db9",
   "metadata": {},
   "outputs": [],
   "source": []
  },
  {
   "cell_type": "code",
   "execution_count": null,
   "id": "169bb11d",
   "metadata": {},
   "outputs": [],
   "source": []
  },
  {
   "cell_type": "markdown",
   "id": "a7971949",
   "metadata": {},
   "source": [
    "## Problem 3"
   ]
  },
  {
   "cell_type": "code",
   "execution_count": null,
   "id": "6d036d59",
   "metadata": {},
   "outputs": [],
   "source": []
  },
  {
   "cell_type": "code",
   "execution_count": null,
   "id": "398c374a",
   "metadata": {},
   "outputs": [],
   "source": []
  },
  {
   "cell_type": "code",
   "execution_count": null,
   "id": "df72f9dd",
   "metadata": {},
   "outputs": [],
   "source": []
  },
  {
   "cell_type": "markdown",
   "id": "a772a6a0",
   "metadata": {},
   "source": [
    "## Problem 4"
   ]
  },
  {
   "cell_type": "code",
   "execution_count": null,
   "id": "be595e7a",
   "metadata": {},
   "outputs": [],
   "source": []
  },
  {
   "cell_type": "code",
   "execution_count": null,
   "id": "fc0825c5",
   "metadata": {},
   "outputs": [],
   "source": []
  },
  {
   "cell_type": "code",
   "execution_count": null,
   "id": "3dda09b7",
   "metadata": {},
   "outputs": [],
   "source": []
  },
  {
   "cell_type": "code",
   "execution_count": null,
   "id": "11a9a6e4",
   "metadata": {},
   "outputs": [],
   "source": []
  }
 ],
 "metadata": {
  "kernelspec": {
   "display_name": "Python 3 (ipykernel)",
   "language": "python",
   "name": "python3"
  },
  "language_info": {
   "codemirror_mode": {
    "name": "ipython",
    "version": 3
   },
   "file_extension": ".py",
   "mimetype": "text/x-python",
   "name": "python",
   "nbconvert_exporter": "python",
   "pygments_lexer": "ipython3",
   "version": "3.10.9"
  }
 },
 "nbformat": 4,
 "nbformat_minor": 5
}
