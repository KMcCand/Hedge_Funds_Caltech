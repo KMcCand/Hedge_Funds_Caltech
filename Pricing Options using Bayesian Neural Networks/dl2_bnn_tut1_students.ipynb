{
  "cells": [
    {
      "cell_type": "markdown",
      "metadata": {
        "id": "8afrg8L7ACoE"
      },
      "source": [
        "# Tutorial 1: Bayesian Neural Networks with Pyro\n",
        "\n"
      ]
    },
    {
      "cell_type": "markdown",
      "metadata": {
        "id": "oy8XkSdxpt4Z"
      },
      "source": [
        "**Filled notebook:**\n",
        "- Latest version (V04/23): [![Open In Collab](https://colab.research.google.com/assets/colab-badge.svg)](https://colab.research.google.com/drive/13bR9Po_waACHykw2eKmwt2mEmkc_BA_V)  \n",
        "\n",
        "**Empty notebook**:\n",
        "- Latest version (V04/23): this notebook\n",
        "\n",
        "Visit also the DL2 tutorial [Github repo](https://github.com/phlippe/uvadlc_notebooks) and associated [Docs page](https://uvadlc-notebooks.readthedocs.io/en/latest/).\n",
        "\n",
        "**Authors:**\n",
        "Ilze Amanda Auzina, Leonard Bereska, Alexander Timans and Eric Nalisnick"
      ]
    },
    {
      "cell_type": "markdown",
      "metadata": {
        "id": "IptXLHTsquHl"
      },
      "source": [
        "-------------------------------------------------"
      ]
    },
    {
      "cell_type": "markdown",
      "metadata": {
        "id": "5wlbUXQ5mxts"
      },
      "source": [
        "## Bayesian Neural Networks\n",
        "\n",
        "A Bayesian neural network is a probabilistic model that allows us to estimate uncertainty in predictions by representing the weights and biases of the network as probability distributions rather than fixed values. This allows us to *incorporate prior knowledge* about the weights and biases into the model, and *update our beliefs* about them as we observe data.\n",
        "\n",
        "Mathematically, a Bayesian neural network can be represented as follows:\n",
        "\n",
        "Given a set of input data $x$, we want to predict the corresponding output $y$. The neural network represents this relationship as a function $f(x, \\theta)$, where $\\theta$ are the weights and biases of the network. In a Bayesian neural network, we represent the weights and biases as probability distributions, so $f(x, \\theta)$ becomes a probability distribution over possible outputs:\n",
        "\n",
        "$$ p(y|x, \\mathcal{D}) = \\int p(y|x, \\theta)p(\\theta|\\mathcal{D}) d\\theta $$\n",
        "\n",
        "where $p(y|x, \\theta)$ is the likelihood function, which gives the probability of observing $y$ given $x$ and $\\theta$, and $p(\\theta|\\mathcal{D})$ is the posterior distribution over the weights and biases given the observed data $\\mathcal{D}$.\n",
        "\n",
        "To make predictions, we use the posterior predictive distribution:\n",
        "\n",
        "$$ p(y^*|x^*, \\mathcal{D}) = \\int p(y^*|x^*, \\theta)p(\\theta|\\mathcal{D}) d\\theta $$\n",
        "\n",
        "where $x^*$ is a new input and $y^*$ is the corresponding predicted output.\n",
        "\n",
        "To estimate the (intractable) posterior distribution $p(\\theta|\\mathcal{D})$, we can use either Markov Chain Monte Carlo (MCMC) or Variational Inference (VI)."
      ]
    },
    {
      "cell_type": "markdown",
      "metadata": {
        "id": "rtNNqRdIOmqK"
      },
      "source": [
        "## Simulate data\n",
        "Let's generate noisy observations from a sinusoidal function."
      ]
    },
    {
      "cell_type": "code",
      "execution_count": 38,
      "metadata": {
        "colab": {
          "base_uri": "https://localhost:8080/",
          "height": 493
        },
        "id": "NIkB27gArnmm",
        "outputId": "4ab1cb30-bbb8-47f3-a824-4d24e6a6d2cc"
      },
      "outputs": [
        {
          "data": {
            "image/png": "[encoded data removed]",
            "text/plain": [
              "<Figure size 1000x500 with 1 Axes>"
            ]
          },
          "metadata": {},
          "output_type": "display_data"
        }
      ],
      "source": [
        "import torch\n",
        "import numpy as np\n",
        "import matplotlib.pyplot as plt\n",
        "\n",
        "# Set random seed for reproducibility\n",
        "np.random.seed(42)\n",
        "\n",
        "# Generate data\n",
        "# x_obs = np.hstack([np.linspace(-0.2, 0.2, 50), np.linspace(0.6, 1, 50)])\n",
        "# noise = 0.02 * np.random.randn(x_obs.shape[0])\n",
        "# y_obs = x_obs + 0.3 * np.sin(2 * np.pi * (x_obs + noise)) + 0.3 * np.sin(4 * np.pi * (x_obs + x_obs * x_obs * 40 * noise)) + noise\n",
        "\n",
        "# x_true = np.linspace(-0.5, 1.5, 1000)\n",
        "# y_true = x_true + 0.3 * np.sin(2 * np.pi * x_true) + 0.3 * np.sin(4 * np.pi * x_true)\n",
        "\n",
        "def noise(x):\n",
        "    return 0.2*np.abs(x-2)*abs(x+2)*(np.random.randn(x_obs.shape[0]) - 0.5)\n",
        "def clean_target(x):\n",
        "    return ((x**3 -10* x)*0.02 + x)\n",
        "def target(x):\n",
        "    return (clean_target(x) + noise(x))\n",
        "\n",
        "x_obs = np.hstack([np.linspace(-1, -0.2, 50), np.linspace(0.2, 1, 50)])\n",
        "y_obs = target(x_obs)\n",
        "x_true = np.linspace(-1, 1, 100)\n",
        "y_true = clean_target(x_true)\n",
        "\n",
        "# Set plot limits and labels\n",
        "xlims = [-1, 1]\n",
        "ylims = [-4, 4]\n",
        "\n",
        "# Create plot\n",
        "fig, ax = plt.subplots(figsize=(10, 5))\n",
        "ax.plot(x_true, y_true, 'b-', linewidth=3, label=\"True function\")\n",
        "ax.plot(x_obs, y_obs, 'ko', markersize=4, label=\"Observations\")\n",
        "ax.set_xlim(xlims)\n",
        "ax.set_ylim(ylims)\n",
        "ax.set_xlabel(\"X\", fontsize=30)\n",
        "ax.set_ylabel(\"Y\", fontsize=30)\n",
        "ax.legend(loc=4, fontsize=15, frameon=False)\n",
        "\n",
        "plt.show()"
      ]
    },
    {
      "cell_type": "markdown",
      "metadata": {
        "id": "r1VPB-FCdHzo"
      },
      "source": [
        "## Getting started with Pyro"
      ]
    },
    {
      "cell_type": "markdown",
      "metadata": {
        "id": "0s1zQEID65Ta"
      },
      "source": [
        "Let's install Pyro now.  You may have to restart the runtime after this step."
      ]
    },
    {
      "cell_type": "code",
      "execution_count": 7,
      "metadata": {
        "colab": {
          "base_uri": "https://localhost:8080/"
        },
        "id": "rh_UZO_UEyyw",
        "outputId": "b2ee379d-3c37-4459-91bf-31aafb9f6f99"
      },
      "outputs": [
        {
          "name": "stdout",
          "output_type": "stream",
          "text": [
            "Collecting pyro-ppl\n",
            "  Downloading pyro_ppl-1.9.1-py3-none-any.whl.metadata (7.8 kB)\n",
            "Requirement already satisfied: numpy>=1.7 in /Users/andrewzabelo/anaconda3/envs/bem_final/lib/python3.12/site-packages (from pyro-ppl) (1.26.4)\n",
            "Collecting opt-einsum>=2.3.2 (from pyro-ppl)\n",
            "  Using cached opt_einsum-3.3.0-py3-none-any.whl.metadata (6.5 kB)\n",
            "Collecting pyro-api>=0.1.1 (from pyro-ppl)\n",
            "  Using cached pyro_api-0.1.2-py3-none-any.whl.metadata (2.5 kB)\n",
            "Requirement already satisfied: torch>=2.0 in /Users/andrewzabelo/anaconda3/envs/bem_final/lib/python3.12/site-packages (from pyro-ppl) (2.2.2)\n",
            "Collecting tqdm>=4.36 (from pyro-ppl)\n",
            "  Downloading tqdm-4.66.4-py3-none-any.whl.metadata (57 kB)\n",
            "\u001b[2K     \u001b[90m━━━━━━━━━━━━━━━━━━━━━━━━━━━━━━━━━━━━━━━━\u001b[0m \u001b[32m57.6/57.6 kB\u001b[0m \u001b[31m1.9 MB/s\u001b[0m eta \u001b[36m0:00:00\u001b[0m\n",
            "\u001b[?25hRequirement already satisfied: filelock in /Users/andrewzabelo/anaconda3/envs/bem_final/lib/python3.12/site-packages (from torch>=2.0->pyro-ppl) (3.14.0)\n",
            "Requirement already satisfied: typing-extensions>=4.8.0 in /Users/andrewzabelo/anaconda3/envs/bem_final/lib/python3.12/site-packages (from torch>=2.0->pyro-ppl) (4.12.1)\n",
            "Requirement already satisfied: sympy in /Users/andrewzabelo/anaconda3/envs/bem_final/lib/python3.12/site-packages (from torch>=2.0->pyro-ppl) (1.12.1)\n",
            "Requirement already satisfied: networkx in /Users/andrewzabelo/anaconda3/envs/bem_final/lib/python3.12/site-packages (from torch>=2.0->pyro-ppl) (3.3)\n",
            "Requirement already satisfied: jinja2 in /Users/andrewzabelo/anaconda3/envs/bem_final/lib/python3.12/site-packages (from torch>=2.0->pyro-ppl) (3.1.4)\n",
            "Requirement already satisfied: fsspec in /Users/andrewzabelo/anaconda3/envs/bem_final/lib/python3.12/site-packages (from torch>=2.0->pyro-ppl) (2024.6.0)\n",
            "Requirement already satisfied: MarkupSafe>=2.0 in /Users/andrewzabelo/anaconda3/envs/bem_final/lib/python3.12/site-packages (from jinja2->torch>=2.0->pyro-ppl) (2.1.5)\n",
            "Requirement already satisfied: mpmath<1.4.0,>=1.1.0 in /Users/andrewzabelo/anaconda3/envs/bem_final/lib/python3.12/site-packages (from sympy->torch>=2.0->pyro-ppl) (1.3.0)\n",
            "Downloading pyro_ppl-1.9.1-py3-none-any.whl (755 kB)\n",
            "\u001b[2K   \u001b[90m━━━━━━━━━━━━━━━━━━━━━━━━━━━━━━━━━━━━━━━━\u001b[0m \u001b[32m756.0/756.0 kB\u001b[0m \u001b[31m11.2 MB/s\u001b[0m eta \u001b[36m0:00:00\u001b[0ma \u001b[36m0:00:01\u001b[0m\n",
            "\u001b[?25hUsing cached opt_einsum-3.3.0-py3-none-any.whl (65 kB)\n",
            "Using cached pyro_api-0.1.2-py3-none-any.whl (11 kB)\n",
            "Downloading tqdm-4.66.4-py3-none-any.whl (78 kB)\n",
            "\u001b[2K   \u001b[90m━━━━━━━━━━━━━━━━━━━━━━━━━━━━━━━━━━━━━━━━\u001b[0m \u001b[32m78.3/78.3 kB\u001b[0m \u001b[31m2.8 MB/s\u001b[0m eta \u001b[36m0:00:00\u001b[0m\n",
            "\u001b[?25hInstalling collected packages: pyro-api, tqdm, opt-einsum, pyro-ppl\n",
            "Successfully installed opt-einsum-3.3.0 pyro-api-0.1.2 pyro-ppl-1.9.1 tqdm-4.66.4\n"
          ]
        }
      ],
      "source": [
        "!pip install pyro-ppl"
      ]
    },
    {
      "cell_type": "markdown",
      "metadata": {
        "id": "W7q2kdFwMJyY"
      },
      "source": [
        "## Bayesian Neural Network with Gaussian Prior and Likelihood\n",
        "Our first Bayesian neural network employs a Gaussian prior on the weights and a Gaussian likelihood function for the data. The network is a shallow neural network with one hidden layer.\n",
        "\n",
        "To be specific, we use the following prior on the weights $\\theta$:\n",
        "\n",
        "$p(\\theta) = \\mathcal{N}(\\mathbf{0}, 10\\cdot\\mathbb{I}),$ where $\\mathbb{I}$ is the identity matrix.\n",
        "\n",
        "To train the network, we define a likelihood function comparing the predicted outputs of the network with the actual data points:\n",
        "\n",
        "$p(y_i| x_i, \\theta) = \\mathcal{N}\\big(NN_{\\theta}(x_i), \\sigma^2\\big)$, with prior $\\sigma \\sim \\Gamma(1,1)$.\n",
        "\n",
        "Here, $y_i$ represents the actual output for the $i$-th data point, $x_i$ represents the input for that data point, $\\sigma$ is the standard deviation parameter for the normal distribution and $NN_{\\theta}$ is the shallow neural network parameterized by $\\theta$.\n",
        "\n",
        "Note that we use $\\sigma^2$ instead of $\\sigma$ in the likelihood function because we use a Gaussian prior on $\\sigma$ when performing variational inference and then want to avoid negative values for the standard deviation."
      ]
    },
    {
      "cell_type": "code",
      "execution_count": 39,
      "metadata": {
        "id": "CKnbkVoz_iFU"
      },
      "outputs": [],
      "source": [
        "import pyro\n",
        "import pyro.distributions as dist\n",
        "from pyro.nn import PyroModule, PyroSample\n",
        "import torch.nn as nn\n",
        "\n",
        "\n",
        "class MyFirstBNN(PyroModule):\n",
        "    def __init__(self, in_dim=1, out_dim=1, hid_dim=5, prior_scale=10.):\n",
        "        super().__init__()\n",
        "\n",
        "        self.activation = nn.Tanh()  # or nn.ReLU()\n",
        "        self.layer1 = PyroModule[nn.Linear](in_dim, hid_dim)  # Input to hidden layer\n",
        "        self.layer2 = PyroModule[nn.Linear](hid_dim, out_dim)  # Hidden to output layer\n",
        "\n",
        "        # Set layer parameters as random variables\n",
        "        self.layer1.weight = PyroSample(dist.Normal(0., prior_scale).expand([hid_dim, in_dim]).to_event(2))\n",
        "        self.layer1.bias = PyroSample(dist.Normal(0., prior_scale).expand([hid_dim]).to_event(1))\n",
        "        self.layer2.weight = PyroSample(dist.Normal(0., prior_scale).expand([out_dim, hid_dim]).to_event(2))\n",
        "        self.layer2.bias = PyroSample(dist.Normal(0., prior_scale).expand([out_dim]).to_event(1))\n",
        "\n",
        "    def forward(self, x, y=None):\n",
        "        x = x.reshape(-1, 1)\n",
        "        x = self.activation(self.layer1(x))\n",
        "        mu = self.layer2(x).squeeze()\n",
        "        sigma = pyro.sample(\"sigma\", dist.Gamma(.5, 1))  # Infer the response noise\n",
        "\n",
        "        # Sampling model\n",
        "        with pyro.plate(\"data\", x.shape[0]):\n",
        "            obs = pyro.sample(\"obs\", dist.Normal(mu, sigma * sigma), obs=y)\n",
        "        return mu"
      ]
    },
    {
      "cell_type": "markdown",
      "metadata": {
        "id": "7d14qstiA2Mq"
      },
      "source": [
        "## Define and run Markov chain Monte Carlo sampler\n",
        "\n",
        "To begin with, we can use MCMC to compute an *unbiased estimate* of $p(y|x, \\mathcal{D}) = \\mathbb{E}_{\\theta \\sim p(\\theta|\\mathcal{D})}\\big[p(y|x,\\theta)\\big]$ through Monte Carlo sampling. Specifically, we can approximate $\\mathbb{E}_{\\theta \\sim p(\\theta|\\mathcal{D})}\\big[p(y|x,\\theta)\\big]$ as follows:\n",
        "$$\\mathbb{E}_{\\theta \\sim p(\\theta|\\mathcal{D})}\\big[p(y|x,\\theta)\\big] \\approx \\frac{1}{N} \\sum_{i=1}^{N} p(y|x,\\theta_{i}),$$\n",
        "where $\\theta_{i} \\sim p(\\theta_i|\\mathcal{D}) \\propto p(\\mathcal{D}|\\theta)p(\\theta)$ are samples drawn from the posterior distribution. Because the normalizing constant is intractable, we require MCMC methods like Hamiltonian Monte Carlo to draw samples from the non-normalized posterior.\n",
        "\n",
        "Here, we use the No-U-Turn ([NUTS](https://arxiv.org/abs/1111.4246)) kernel."
      ]
    },
    {
      "cell_type": "code",
      "execution_count": 40,
      "metadata": {
        "colab": {
          "base_uri": "https://localhost:8080/"
        },
        "id": "UUeVvklgDDy-",
        "outputId": "819ddf43-2c00-4e6d-f10a-332dc7a340af"
      },
      "outputs": [
        {
          "name": "stderr",
          "output_type": "stream",
          "text": [
            "Warmup:   0%|          | 0/100 [00:00, ?it/s]"
          ]
        },
        {
          "name": "stderr",
          "output_type": "stream",
          "text": [
            "Sample: 100%|██████████| 100/100 [02:52,  1.73s/it, step size=3.55e-03, acc. prob=0.942]\n"
          ]
        }
      ],
      "source": [
        "from pyro.infer import MCMC, NUTS\n",
        "\n",
        "model = MyFirstBNN()\n",
        "\n",
        "# Set Pyro random seed\n",
        "pyro.set_rng_seed(42)\n",
        "\n",
        "# Define Hamiltonian Monte Carlo (HMC) kernel\n",
        "# NUTS = \"No-U-Turn Sampler\" (https://arxiv.org/abs/1111.4246), gives HMC an adaptive step size\n",
        "nuts_kernel = NUTS(model, jit_compile=False)  # jit_compile=True is faster but requires PyTorch 1.6+\n",
        "\n",
        "# Define MCMC sampler, get 50 posterior samples\n",
        "mcmc = MCMC(nuts_kernel, num_samples=50)\n",
        "\n",
        "# Convert data to PyTorch tensors\n",
        "x_train = torch.from_numpy(x_obs).float()\n",
        "y_train = torch.from_numpy(y_obs).float()\n",
        "\n",
        "# Run MCMC\n",
        "mcmc.run(x_train, y_train)"
      ]
    },
    {
      "cell_type": "markdown",
      "metadata": {
        "id": "BM-TzBWgM99Q"
      },
      "source": [
        "We calculate and plot the predictive distribution."
      ]
    },
    {
      "cell_type": "code",
      "execution_count": 41,
      "metadata": {
        "id": "SIG1pZkxansO"
      },
      "outputs": [],
      "source": [
        "from pyro.infer import Predictive\n",
        "\n",
        "predictive = Predictive(model=model, posterior_samples=mcmc.get_samples())\n",
        "x_test = torch.linspace(-20, 20, 3000)\n",
        "preds = predictive(x_test)"
      ]
    },
    {
      "cell_type": "code",
      "execution_count": 44,
      "metadata": {
        "id": "yJRQ9WKfMqst"
      },
      "outputs": [],
      "source": [
        "def plot_predictions(preds):\n",
        "    y_pred = preds['obs'].T.detach().numpy().mean(axis=1)\n",
        "    y_std = preds['obs'].T.detach().numpy().std(axis=1)\n",
        "\n",
        "    fig, ax = plt.subplots(figsize=(10, 5))\n",
        "    xlims = [-2, 2]\n",
        "    ylims = [-4, 4]\n",
        "    plt.xlim(xlims)\n",
        "    plt.ylim(ylims)\n",
        "    plt.xlabel(\"X\", fontsize=30)\n",
        "    plt.ylabel(\"Y\", fontsize=30)\n",
        "\n",
        "    ax.plot(x_true, y_true, 'b-', linewidth=3, label=\"true function\")\n",
        "    ax.plot(x_obs, y_obs, 'ko', markersize=4, label=\"observations\")\n",
        "    ax.plot(x_obs, y_obs, 'ko', markersize=3)\n",
        "    ax.plot(x_test, y_pred, '-', linewidth=3, color=\"#408765\", label=\"predictive mean\")\n",
        "    ax.fill_between(x_test, y_pred - 2 * y_std, y_pred + 2 * y_std, alpha=0.6, color='#86cfac', zorder=5)\n",
        "\n",
        "    plt.legend(loc=4, fontsize=15, frameon=False)"
      ]
    },
    {
      "cell_type": "code",
      "execution_count": 45,
      "metadata": {
        "colab": {
          "base_uri": "https://localhost:8080/",
          "height": 493
        },
        "id": "U-d9nN2-mAV7",
        "outputId": "532d7bb9-a45e-48b3-8d15-ab1d9f34f1ee"
      },
      "outputs": [
        {
          "data": {
            "image/png": "[encoded data removed]",
            "text/plain": [
              "<Figure size 1000x500 with 1 Axes>"
            ]
          },
          "metadata": {},
          "output_type": "display_data"
        }
      ],
      "source": [
        "plot_predictions(preds)"
      ]
    },
    {
      "cell_type": "markdown",
      "metadata": {
        "id": "o7RjGbEy6_2K"
      },
      "source": [
        "## Exercise 1: Deep Bayesian Neural Network\n",
        "\n",
        "We can define a deep Bayesian neural network in a similar fashion, with Gaussian priors on the weights:\n",
        "\n",
        "$p(\\theta) = \\mathcal{N}(\\mathbf{0}, 5\\cdot\\mathbb{I})$.\n",
        "\n",
        "The likelihood function is also Gaussian:\n",
        "\n",
        "$p(y_i| x_i, \\theta) = \\mathcal{N}\\big(NN_{\\theta}(x_i), \\sigma^2\\big)$, with $\\sigma \\sim \\Gamma(0.5,1)$.\n",
        "\n",
        "> Implement the deep Bayesian neural network and run MCMC to obtain posterior samples.\n",
        "> Compute and plot the predictive distribution.\n",
        "> Use the following network architecture: Number of hidden layers: 5, Number of hidden units per layer: 10, Activation function: Tanh, Prior scale: 5."
      ]
    },
    {
      "cell_type": "code",
      "execution_count": 35,
      "metadata": {
        "id": "pnjVP4wZGSNw"
      },
      "outputs": [],
      "source": [
        "class BNN(PyroModule):\n",
        "    def __init__(self, in_dim=1, out_dim=1, hid_dim=10, n_hid_layers=5, prior_scale=5.):\n",
        "        super().__init__()\n",
        "\n",
        "        self.activation = nn.Tanh()  # could also be ReLU or LeakyReLU\n",
        "        assert in_dim > 0 and out_dim > 0 and hid_dim > 0 and n_hid_layers > 0  # make sure the dimensions are valid\n",
        "\n",
        "        # TODO - define the layer sizes and the PyroModule layer list\n",
        "        self.layers = NotImplemented\n",
        "\n",
        "        # TODO - define the prior distribution over the weights and biases\n",
        "        for layer_idx, layer in enumerate(self.layers):\n",
        "            layer.weight = NotImplemented\n",
        "            layer.bias = NotImplemented\n",
        "\n",
        "    def forward(self, x, y=None):\n",
        "        mu = NotImplemented  # TODO - compute the mean of the output distribution\n",
        "        # TODO - sample the response noise\n",
        "        # TODO - sample the response\n",
        "        return mu"
      ]
    },
    {
      "cell_type": "markdown",
      "metadata": {
        "id": "YQ1qofIiNSjM"
      },
      "source": [
        "### Train the deep BNN with MCMC..."
      ]
    },
    {
      "cell_type": "code",
      "execution_count": 36,
      "metadata": {
        "colab": {
          "base_uri": "https://localhost:8080/",
          "height": 326
        },
        "id": "vbcKlUJd549g",
        "outputId": "2dc47bf6-d493-4f2e-a0ca-4068c0c11206"
      },
      "outputs": [
        {
          "ename": "TypeError",
          "evalue": "'NotImplementedType' object is not iterable",
          "output_type": "error",
          "traceback": [
            "\u001b[0;31m---------------------------------------------------------------------------\u001b[0m",
            "\u001b[0;31mTypeError\u001b[0m                                 Traceback (most recent call last)",
            "\u001b[0;32m<ipython-input-36-581a134165cc>\u001b[0m in \u001b[0;36m<cell line: 2>\u001b[0;34m()\u001b[0m\n\u001b[1;32m      1\u001b[0m \u001b[0;31m# define model and data\u001b[0m\u001b[0;34m\u001b[0m\u001b[0;34m\u001b[0m\u001b[0m\n\u001b[0;32m----> 2\u001b[0;31m \u001b[0mmodel\u001b[0m \u001b[0;34m=\u001b[0m \u001b[0mBNN\u001b[0m\u001b[0;34m(\u001b[0m\u001b[0mhid_dim\u001b[0m\u001b[0;34m=\u001b[0m\u001b[0;36m10\u001b[0m\u001b[0;34m,\u001b[0m \u001b[0mn_hid_layers\u001b[0m\u001b[0;34m=\u001b[0m\u001b[0;36m5\u001b[0m\u001b[0;34m,\u001b[0m \u001b[0mprior_scale\u001b[0m\u001b[0;34m=\u001b[0m\u001b[0;36m5.\u001b[0m\u001b[0;34m)\u001b[0m\u001b[0;34m\u001b[0m\u001b[0;34m\u001b[0m\u001b[0m\n\u001b[0m\u001b[1;32m      3\u001b[0m \u001b[0;34m\u001b[0m\u001b[0m\n\u001b[1;32m      4\u001b[0m \u001b[0;31m# define MCMC sampler\u001b[0m\u001b[0;34m\u001b[0m\u001b[0;34m\u001b[0m\u001b[0m\n\u001b[1;32m      5\u001b[0m \u001b[0mnuts_kernel\u001b[0m \u001b[0;34m=\u001b[0m \u001b[0mNUTS\u001b[0m\u001b[0;34m(\u001b[0m\u001b[0mmodel\u001b[0m\u001b[0;34m,\u001b[0m \u001b[0mjit_compile\u001b[0m\u001b[0;34m=\u001b[0m\u001b[0;32mFalse\u001b[0m\u001b[0;34m)\u001b[0m\u001b[0;34m\u001b[0m\u001b[0;34m\u001b[0m\u001b[0m\n",
            "\u001b[0;32m<ipython-input-35-accd55e26d1c>\u001b[0m in \u001b[0;36m__init__\u001b[0;34m(self, in_dim, out_dim, hid_dim, n_hid_layers, prior_scale)\u001b[0m\n\u001b[1;32m     10\u001b[0m \u001b[0;34m\u001b[0m\u001b[0m\n\u001b[1;32m     11\u001b[0m         \u001b[0;31m# TODO - define the prior distribution over the weights and biases\u001b[0m\u001b[0;34m\u001b[0m\u001b[0;34m\u001b[0m\u001b[0m\n\u001b[0;32m---> 12\u001b[0;31m         \u001b[0;32mfor\u001b[0m \u001b[0mlayer_idx\u001b[0m\u001b[0;34m,\u001b[0m \u001b[0mlayer\u001b[0m \u001b[0;32min\u001b[0m \u001b[0menumerate\u001b[0m\u001b[0;34m(\u001b[0m\u001b[0mself\u001b[0m\u001b[0;34m.\u001b[0m\u001b[0mlayers\u001b[0m\u001b[0;34m)\u001b[0m\u001b[0;34m:\u001b[0m\u001b[0;34m\u001b[0m\u001b[0;34m\u001b[0m\u001b[0m\n\u001b[0m\u001b[1;32m     13\u001b[0m             \u001b[0mlayer\u001b[0m\u001b[0;34m.\u001b[0m\u001b[0mweight\u001b[0m \u001b[0;34m=\u001b[0m \u001b[0mNotImplemented\u001b[0m\u001b[0;34m\u001b[0m\u001b[0;34m\u001b[0m\u001b[0m\n\u001b[1;32m     14\u001b[0m             \u001b[0mlayer\u001b[0m\u001b[0;34m.\u001b[0m\u001b[0mbias\u001b[0m \u001b[0;34m=\u001b[0m \u001b[0mNotImplemented\u001b[0m\u001b[0;34m\u001b[0m\u001b[0;34m\u001b[0m\u001b[0m\n",
            "\u001b[0;31mTypeError\u001b[0m: 'NotImplementedType' object is not iterable"
          ]
        }
      ],
      "source": [
        "# define model and data\n",
        "model = BNN(hid_dim=10, n_hid_layers=5, prior_scale=5.)\n",
        "\n",
        "# define MCMC sampler\n",
        "nuts_kernel = NUTS(model, jit_compile=False)\n",
        "mcmc = MCMC(nuts_kernel, num_samples=50)\n",
        "mcmc.run(x_train, y_train)"
      ]
    },
    {
      "cell_type": "markdown",
      "metadata": {
        "id": "5ZMsM58lNgEo"
      },
      "source": [
        "Compute predictive distribution..."
      ]
    },
    {
      "cell_type": "code",
      "execution_count": null,
      "metadata": {
        "id": "R0Xtrtqz7uel"
      },
      "outputs": [],
      "source": [
        "predictive = Predictive(model=model, posterior_samples=mcmc.get_samples())\n",
        "preds = predictive(x_test)\n",
        "plot_predictions(preds)"
      ]
    },
    {
      "cell_type": "markdown",
      "metadata": {
        "id": "xs1kQn7tHvO2"
      },
      "source": [
        "## Train BNNs with mean-field variational inference\n",
        "\n",
        "We will now move on to variational inference. Since the normalized posterior probability density $p(\\theta|\\mathcal{D})$ is intractable, we approximate it with a tractable parametrized density $q_{\\phi}(\\theta)$ in a family of probability densities $\\mathcal{Q}$. The variational parameters are denoted by $\\phi$ and the variational density is called the \"guide\" in Pyro. The goal is to find the variational probability density that best approximates the posterior by minimizing the KL divergence $$KL\\big(q_{\\phi}(\\theta)||p(\\theta|\\mathcal{D})\\big)$$ with respect to the variational parameters.\n",
        "However, directly minimizing the KL divergence is not tractable because we assume that the posterior density is intractable. To solve this, we use Bayes theorem to obtain\n",
        "$$\n",
        "\\log p(\\mathcal{D}|\\theta) = KL\\big(q_{\\phi}(\\theta)||p(\\theta|\\mathcal{D})\\big) + ELBO(q_{\\phi}(\\theta)),\n",
        "$$\n",
        "where $ELBO(q_{\\phi}(\\theta))$ is the *Evidence Lower Bound*, given by\n",
        "$$\n",
        "ELBO(q_{\\phi}(\\theta)) = \\mathbb{E}_{\\theta \\sim q_{\\phi}(\\theta)}\\big[\\log p(y|x,\\theta) \\big] - KL\\big(q_{\\phi}(\\theta) || p(\\theta) \\big).\n",
        "$$\n",
        "By maximizing the ELBO, we indirectly minimize the KL divergence between the variational probability density and the posterior density."
      ]
    },
    {
      "cell_type": "markdown",
      "metadata": {
        "id": "0EeqtO-SN0kl"
      },
      "source": [
        "Set up for stochastic variational inference with the variational density $q_{\\phi}(\\theta)$ by using a normal probability density with a diagonal covariance matrix:"
      ]
    },
    {
      "cell_type": "code",
      "execution_count": null,
      "metadata": {
        "id": "2bFbuA5fJmFl",
        "pycharm": {
          "is_executing": true
        }
      },
      "outputs": [],
      "source": [
        "from pyro.infer import SVI, Trace_ELBO\n",
        "from pyro.infer.autoguide import AutoDiagonalNormal\n",
        "from tqdm.auto import trange\n",
        "pyro.clear_param_store()\n",
        "\n",
        "model = BNN(hid_dim=10, n_hid_layers=5, prior_scale=5.)\n",
        "mean_field_guide = AutoDiagonalNormal(model)\n",
        "optimizer = pyro.optim.Adam({\"lr\": 0.01})\n",
        "\n",
        "svi = SVI(model, mean_field_guide, optimizer, loss=Trace_ELBO())\n",
        "pyro.clear_param_store()\n",
        "\n",
        "num_epochs = 25000\n",
        "progress_bar = trange(num_epochs)\n",
        "\n",
        "for epoch in progress_bar:\n",
        "    loss = svi.step(x_train, y_train)\n",
        "    progress_bar.set_postfix(loss=f\"{loss / x_train.shape[0]:.3f}\")"
      ]
    },
    {
      "cell_type": "markdown",
      "metadata": {
        "id": "vefi5wv-OFfI"
      },
      "source": [
        "As before, we compute the predictive distribution sampling from the trained variational density."
      ]
    },
    {
      "cell_type": "code",
      "execution_count": null,
      "metadata": {
        "id": "R28wesFt3DjZ",
        "pycharm": {
          "is_executing": true
        }
      },
      "outputs": [],
      "source": [
        "predictive = Predictive(model, guide=mean_field_guide, num_samples=500)\n",
        "preds = predictive(x_test)\n",
        "plot_predictions(preds)"
      ]
    },
    {
      "cell_type": "markdown",
      "metadata": {
        "id": "APlZryo9nxBg"
      },
      "source": [
        "## Exercise 2: Bayesian updating with variational inference"
      ]
    },
    {
      "cell_type": "markdown",
      "metadata": {
        "id": "IY8G3rLrR2mK"
      },
      "source": [
        "What happens if we obtain new data points, denoted as $\\mathcal{D}'$, after performing variational inference using the observations $\\mathcal{D}$?"
      ]
    },
    {
      "cell_type": "code",
      "execution_count": null,
      "metadata": {
        "id": "vZ-qsDisMUSq"
      },
      "outputs": [],
      "source": [
        "# Generate new observations\n",
        "x_new = np.linspace(0.2, 0.6, 100)\n",
        "noise = 0.02 * np.random.randn(x_new.shape[0])\n",
        "y_new = x_new + 0.3 * np.sin(2 * np.pi * (x_new + noise)) + 0.3 * np.sin(4 * np.pi * (x_new + noise)) + noise\n",
        "\n",
        "# Generate true function\n",
        "x_true = np.linspace(-0.5, 1.5, 1000)\n",
        "y_true = x_true + 0.3 * np.sin(2 * np.pi * x_true) + 0.3 * np.sin(4 * np.pi * x_true)\n",
        "\n",
        "# Set axis limits and labels\n",
        "plt.xlim(xlims)\n",
        "plt.ylim(ylims)\n",
        "plt.xlabel(\"X\", fontsize=30)\n",
        "plt.ylabel(\"Y\", fontsize=30)\n",
        "\n",
        "# Plot all datasets\n",
        "plt.plot(x_true, y_true, 'b-', linewidth=3, label=\"True function\")\n",
        "plt.plot(x_new, y_new, 'ko', markersize=4, label=\"New observations\", c=\"r\")\n",
        "plt.plot(x_obs, y_obs, 'ko', markersize=4, label=\"Old observations\")\n",
        "plt.legend(loc=4, fontsize=15, frameon=False)\n",
        "plt.show()"
      ]
    },
    {
      "cell_type": "markdown",
      "metadata": {
        "id": "r7_9erXVMy6i"
      },
      "source": [
        "## Bayesian update\n",
        "\n",
        "How can we perform a Bayesian update on the model using variational inference when new observations become available?\n",
        "\n",
        "We can use the previously calculated posterior probability density as the new prior and update the posterior with the new observations. Specifically, the updated posterior probability density is given by:\n",
        "\n",
        "$$\n",
        "p(\\theta|\\mathcal{D}') = \\frac{p(\\mathcal{D}'|\\theta)q_{\\phi}(\\theta)}{\\int p(\\mathcal{D}'|\\theta)q_{\\phi}(\\theta)}\n",
        "$$\n",
        "\n",
        "Note that we want to update our model using only the new observations $\\mathcal{D}'$, relying on the fact that the variational density used as our new prior carries the necessary information on the old observations $\\mathcal{D}$.\n",
        "\n",
        "\n",
        "### Implementation in Pyro\n",
        "\n",
        "To implement this in Pyro, we can extract the variational parameters (mean and standard deviation) from the `guide` and use them to initialize the prior in a new model that is similar to the original model used for variational inference.\n",
        "\n",
        "From the Gaussian `guide` we can extract the variational parameters (mean and standard deviation) as:\n",
        "\n",
        "```python\n",
        "mu = guide.get_posterior().mean\n",
        "sigma = guide.get_posterior().stddev\n",
        "```\n",
        "\n",
        "\n",
        "\n"
      ]
    },
    {
      "cell_type": "markdown",
      "metadata": {
        "collapsed": false,
        "id": "w6jq_L1QmAV8"
      },
      "source": [
        "### Exercise 2.1 Learn a model on the old observations\n",
        "First, as before, we define a model using Gaussian prior $\\mathcal{N}(\\mathbf{0}, 10\\cdot \\mathbb{I})$.\n",
        "\n",
        "> Train a model `MyFirstBNN` on the old observations $\\mathcal{D}$ using variational inference with `AutoDiagonalNormal()` as guide."
      ]
    },
    {
      "cell_type": "code",
      "execution_count": null,
      "metadata": {
        "id": "Bq4X6c3OmAV8"
      },
      "outputs": [],
      "source": [
        "from pyro.optim import Adam\n",
        "pyro.set_rng_seed(42)\n",
        "pyro.clear_param_store()\n",
        "\n",
        "model = MyFirstBNN()\n",
        "guide = NotImplemented  # TODO: Use AutoDiagonalNormal\n",
        "# TODO: Learn the model using stochastic variational inference"
      ]
    },
    {
      "cell_type": "code",
      "execution_count": null,
      "metadata": {
        "id": "Ojrx15hrmAV8"
      },
      "outputs": [],
      "source": [
        "predictive = Predictive(model, guide=guide, num_samples=5000)\n",
        "preds = predictive(x_test)\n",
        "plot_predictions(preds)"
      ]
    },
    {
      "cell_type": "markdown",
      "metadata": {
        "collapsed": false,
        "id": "3qq_KfKTmAV8"
      },
      "source": [
        "Next, we can extract the variational parameters (mean and standard deviation) from the `guide` and use them to initialize the prior in a new model that is similar to the original model used for variational inference."
      ]
    },
    {
      "cell_type": "code",
      "execution_count": null,
      "metadata": {
        "id": "vcgM6OGlmAV8"
      },
      "outputs": [],
      "source": [
        "# Extract variational parameters from guide\n",
        "mu = guide.get_posterior().mean.detach()\n",
        "stddev = guide.get_posterior().stddev.detach()"
      ]
    },
    {
      "cell_type": "code",
      "execution_count": null,
      "metadata": {
        "id": "NaXAlZVLmAV8"
      },
      "outputs": [],
      "source": [
        "for name, value in pyro.get_param_store().items():\n",
        "    print(name, pyro.param(name))"
      ]
    },
    {
      "cell_type": "markdown",
      "metadata": {
        "id": "oocfregiR04Y"
      },
      "source": [
        "### Exercise 2.2 Initialize a second model with the variational parameters\n",
        "> Define a new model similar to `MyFirstBNN(PyroModule)`, that takes the variational parameters and uses them to initialize the prior."
      ]
    },
    {
      "cell_type": "code",
      "execution_count": null,
      "metadata": {
        "id": "TYT5Dk7VmAV8"
      },
      "outputs": [],
      "source": [
        "class UpdatedBNN(PyroModule):\n",
        "    def __init__(self, mu, stddev, in_dim=1, out_dim=1, hid_dim=5):\n",
        "        super().__init__()\n",
        "        self.mu = mu\n",
        "        self.stddev = stddev\n",
        "\n",
        "        self.activation = nn.Tanh()\n",
        "        self.layer1 = PyroModule[nn.Linear](in_dim, hid_dim)\n",
        "        self.layer2 = PyroModule[nn.Linear](hid_dim, out_dim)\n",
        "\n",
        "        self.layer1.weight = NotImplemented  # TODO: Initialize from mu and stddev\n",
        "        self.layer1.bias =  NotImplemented  # TODO: Initialize from mu and stddev\n",
        "        self.layer2.weight = NotImplemented  # TODO: Initialize from mu and stddev\n",
        "        self.layer2.bias = NotImplemented  # TODO: Initialize from mu and stddev\n",
        "        # 17th parameter is parameter sigma from the Gamma distribution\n",
        "\n",
        "    def forward(self, x, y=None):\n",
        "        x = x.reshape(-1, 1)\n",
        "        x = self.activation(self.layer1(x))\n",
        "        mu = self.layer2(x).squeeze()\n",
        "        sigma = pyro.sample(\"sigma\", dist.Gamma(.5, 1))\n",
        "\n",
        "        with pyro.plate(\"data\", x.shape[0]):\n",
        "            obs = pyro.sample(\"obs\", dist.Normal(mu, sigma * sigma), obs=y)\n",
        "        return mu"
      ]
    },
    {
      "cell_type": "markdown",
      "metadata": {
        "collapsed": false,
        "id": "-DFanFGxmAV9"
      },
      "source": [
        "### Exercise 2.3 Perform variational inference on the new model\n",
        "> Then perform variational inference on this new model using the new observations and plot the predictive distribution.\n",
        "> What do you observe? How does the predictive distribution compare to the one obtained in Exercise 2.1?"
      ]
    },
    {
      "cell_type": "code",
      "execution_count": null,
      "metadata": {
        "id": "u3uwI3AOmAV9"
      },
      "outputs": [],
      "source": [
        "x_train_new = torch.from_numpy(x_new).float()\n",
        "y_train_new = torch.from_numpy(y_new).float()\n",
        "\n",
        "pyro.clear_param_store()\n",
        "\n",
        "# TODO: Initialize the new model with the variational parameters\n",
        "new_model = NotImplemented\n",
        "new_guide = NotImplemented\n",
        "\n",
        "# TODO: Perform variational inference on the new model"
      ]
    },
    {
      "cell_type": "code",
      "execution_count": null,
      "metadata": {
        "id": "olgiLeo1mAV9"
      },
      "outputs": [],
      "source": [
        "predictive = Predictive(new_model, guide=new_guide, num_samples=5000)\n",
        "preds = predictive(x_test)\n",
        "plot_predictions(preds)"
      ]
    }
  ],
  "metadata": {
    "colab": {
      "provenance": []
    },
    "kernelspec": {
      "display_name": "Python 3",
      "language": "python",
      "name": "python3"
    },
    "language_info": {
      "codemirror_mode": {
        "name": "ipython",
        "version": 3
      },
      "file_extension": ".py",
      "mimetype": "text/x-python",
      "name": "python",
      "nbconvert_exporter": "python",
      "pygments_lexer": "ipython3",
      "version": "3.12.3"
    }
  },
  "nbformat": 4,
  "nbformat_minor": 0
}
